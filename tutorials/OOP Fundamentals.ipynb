{
 "cells": [
  {
   "cell_type": "markdown",
   "metadata": {},
   "source": [
    "# Introduction to classes\n",
    "The class is a fundamental building block in Python. Classes provide a means of bundling data and functionality together. You can think of a class as a user-defined blueprint or prototype that create objects."
   ]
  },
  {
   "cell_type": "markdown",
   "metadata": {},
   "source": [
    "*Why should we use classes?*\n",
    "<br>\n",
    "Classes are the pillar of Object Oriented Programming. OOP is highly concerned with code organization, reusability, and encapsulation:\n",
    "<br>\n",
    "- Organization: OOP defines well known and standard ways of describing and defining both data and procedure in code. Both data and procedure can be stored at varying levels of definition (in different classes), and there are standard ways about talking about these definitions. That is, if you use OOP in a standard way, it will help your later self and others understand, edit, and use your code. Also, instead of using a complex, arbitrary data storage mechanism (dicts of dicts or lists or dicts or lists of dicts of sets, or whatever), you can name pieces of data structures and conveniently refer to them.\n",
    "\n",
    "- State: OOP helps you define and keep track of state. For instance, in a classic example, if you're creating a program that processes students (for instance, a grade program), you can keep all the info you need about them in one spot (name, age, gender, grade level, courses, grades, teachers, peers, diet, special needs, etc.), and this data is persisted as long as the object is alive, and is easily accessible.\n",
    "\n",
    "- Encapsulation: With encapsulation, procedure and data are stored together. Methods (an OOP term for functions) are defined right alongside the data that they operate on and produce. What this means is that if you need or want to change code, you can do whatever you want to the implementation of the code relatively easily.\n",
    "\n",
    "- Inheritance: Inheritance allows you to define data and procedure in one place (in one class), and then override or extend that functionality later. \n",
    "\n",
    "- Reusability: All of these reasons and others allow for greater reusability of code. Object oriented code allows you to write solid (tested) code once, and then reuse over and over. If you need to tweak something for your specific use case, you can inherit from an existing class and overwrite the existing behavior. "
   ]
  },
  {
   "cell_type": "markdown",
   "metadata": {},
   "source": [
    "Consider the following:"
   ]
  },
  {
   "cell_type": "code",
   "execution_count": 1,
   "metadata": {},
   "outputs": [
    {
     "name": "stdout",
     "output_type": "stream",
     "text": [
      "3.3\n",
      "3.5\n"
     ]
    }
   ],
   "source": [
    "def calculateGPA(gradeDict):\n",
    "    return sum(gradeDict.values())/len(gradeDict)\n",
    "\n",
    "students = {}\n",
    "# We can set the keys to variables so we might minimize typos\n",
    "name, age, gender, level, grades = \"name\", \"age\", \"gender\", \"level\", \"grades\"\n",
    "john, jane = \"john\", \"jane\"\n",
    "math = \"math\"\n",
    "students[john] = {}\n",
    "students[john][age] = 12\n",
    "students[john][gender] = \"male\"\n",
    "students[john][level] = 6\n",
    "students[john][grades] = {math:3.3}\n",
    "\n",
    "students[jane] = {}\n",
    "students[jane][age] = 12\n",
    "students[jane][gender] = \"female\"\n",
    "students[jane][level] = 6\n",
    "students[jane][grades] = {math:3.5}\n",
    "\n",
    "# At this point, we need to remember who the students are and where the grades are stored. Not a huge deal, but avoided by OOP.\n",
    "print(calculateGPA(students[john][grades]))\n",
    "print(calculateGPA(students[jane][grades]))"
   ]
  },
  {
   "cell_type": "markdown",
   "metadata": {},
   "source": [
    "Instead, we can apply OOP concepts to define Student objects:"
   ]
  },
  {
   "cell_type": "code",
   "execution_count": 2,
   "metadata": {},
   "outputs": [
    {
     "name": "stdout",
     "output_type": "stream",
     "text": [
      "3.3\n",
      "3.5\n"
     ]
    }
   ],
   "source": [
    "class Student(object):\n",
    "    def __init__(self, name, age, gender, level, grades=None):\n",
    "        self.name = name\n",
    "        self.age = age\n",
    "        self.gender = gender\n",
    "        self.level = level\n",
    "        self.grades = grades or {}\n",
    "\n",
    "    def setGrade(self, course, grade):\n",
    "        self.grades[course] = grade\n",
    "\n",
    "    def getGrade(self, course):\n",
    "        return self.grades[course]\n",
    "\n",
    "    def getGPA(self):\n",
    "        return sum(self.grades.values())/len(self.grades)\n",
    "\n",
    "# Define some students\n",
    "john = Student(\"John\", 12, \"male\", 6, {\"math\":3.3})\n",
    "jane = Student(\"Jane\", 12, \"female\", 6, {\"math\":3.5})\n",
    "\n",
    "# Now we can get to the grades easily\n",
    "print(john.getGPA())\n",
    "print(jane.getGPA())"
   ]
  },
  {
   "cell_type": "markdown",
   "metadata": {},
   "source": [
    "## Creating a class and instance\n",
    "A class is basically a blueprint for creating instances and each unique object that we create using the class will be an instance of that class."
   ]
  },
  {
   "cell_type": "code",
   "execution_count": 4,
   "metadata": {},
   "outputs": [
    {
     "name": "stdout",
     "output_type": "stream",
     "text": [
      "<__main__.Employee object at 0x000001A25B721C88>\n",
      "<__main__.Employee object at 0x000001A25B721CC8>\n"
     ]
    }
   ],
   "source": [
    "class Employee:\n",
    "    pass\n",
    "\n",
    "emp_1 = Employee()\n",
    "emp_2 = Employee()\n",
    "\n",
    "print(emp_1)\n",
    "print(emp_2)"
   ]
  },
  {
   "cell_type": "code",
   "execution_count": 12,
   "metadata": {},
   "outputs": [],
   "source": [
    "emp_1.first = 'Donald'\n",
    "emp_1.last = 'Trump'\n",
    "emp_1.email = 'Donald.Trump@company.com'\n",
    "emp_1.pay = 1000000"
   ]
  },
  {
   "cell_type": "code",
   "execution_count": 13,
   "metadata": {},
   "outputs": [],
   "source": [
    "emp_2.first = 'Worker'\n",
    "emp_2.last = 'One'\n",
    "emp_2.email = 'Worker.One@company.com'\n",
    "emp_2.pay = 2000"
   ]
  },
  {
   "cell_type": "code",
   "execution_count": 14,
   "metadata": {},
   "outputs": [
    {
     "name": "stdout",
     "output_type": "stream",
     "text": [
      "Donald.Trump@company.com\n",
      "Worker.One@company.com\n"
     ]
    }
   ],
   "source": [
    "print(emp_1.email)\n",
    "print(emp_2.email)"
   ]
  },
  {
   "cell_type": "markdown",
   "metadata": {},
   "source": [
    "To make these attributes set up automatically when we create the employee instances:"
   ]
  },
  {
   "cell_type": "code",
   "execution_count": 16,
   "metadata": {},
   "outputs": [],
   "source": [
    "class Employee:\n",
    "    def __init__(self, first, last, pay):           #when we create methods within a class, they receive the instance as the first argument\n",
    "        self.first = first\n",
    "        self.last = last\n",
    "        self.pay = pay\n",
    "        self.email = first + '.' + last + '@company.com'"
   ]
  },
  {
   "cell_type": "markdown",
   "metadata": {},
   "source": [
    "We can now pass in the values that we specified in our init method as arguments in the same order."
   ]
  },
  {
   "cell_type": "code",
   "execution_count": 17,
   "metadata": {},
   "outputs": [],
   "source": [
    "emp_1 = Employee('Donald', 'Trump', 1000000)\n",
    "emp_2 = Employee('Worker', 'One', 2000)"
   ]
  },
  {
   "cell_type": "code",
   "execution_count": 18,
   "metadata": {},
   "outputs": [
    {
     "name": "stdout",
     "output_type": "stream",
     "text": [
      "Donald.Trump@company.com\n",
      "Worker.One@company.com\n"
     ]
    }
   ],
   "source": [
    "print(emp_1.email)\n",
    "print(emp_2.email)"
   ]
  },
  {
   "cell_type": "markdown",
   "metadata": {},
   "source": [
    "The names, email and pay are *attributes* our class."
   ]
  },
  {
   "cell_type": "markdown",
   "metadata": {},
   "source": [
    "## Methods\n",
    "Functions are called methods in classes. We can give the Employee class ability to perform some actions:"
   ]
  },
  {
   "cell_type": "code",
   "execution_count": 19,
   "metadata": {},
   "outputs": [
    {
     "name": "stdout",
     "output_type": "stream",
     "text": [
      "Donald Trump\n"
     ]
    }
   ],
   "source": [
    "print('{} {}'.format(emp_1.first, emp_1.last))"
   ]
  },
  {
   "cell_type": "code",
   "execution_count": 20,
   "metadata": {},
   "outputs": [],
   "source": [
    "class Employee:\n",
    "    def __init__(self, first, last, pay):           \n",
    "        self.first = first\n",
    "        self.last = last\n",
    "        self.pay = pay\n",
    "        self.email = first + '.' + last + '@company.com'\n",
    "        \n",
    "    def fullname(self):\n",
    "        return '{} {}'.format(self.first, self.last)        #need to generalise it to make it applicable for all instances"
   ]
  },
  {
   "cell_type": "code",
   "execution_count": 21,
   "metadata": {},
   "outputs": [
    {
     "name": "stdout",
     "output_type": "stream",
     "text": [
      "Donald Trump\n"
     ]
    }
   ],
   "source": [
    "emp_1 = Employee('Donald', 'Trump', 1000000)\n",
    "print(emp_1.fullname())       # we need the paranthesis since it is a method and not an attribute"
   ]
  },
  {
   "cell_type": "code",
   "execution_count": 23,
   "metadata": {},
   "outputs": [
    {
     "name": "stdout",
     "output_type": "stream",
     "text": [
      "<bound method Employee.fullname of <__main__.Employee object at 0x000001A25B9492C8>>\n"
     ]
    }
   ],
   "source": [
    "print(emp_1.fullname) "
   ]
  },
  {
   "cell_type": "code",
   "execution_count": 24,
   "metadata": {},
   "outputs": [],
   "source": [
    "class Employee:\n",
    "    def __init__(self, first, last, pay):           \n",
    "        self.first = first\n",
    "        self.last = last\n",
    "        self.pay = pay\n",
    "        self.email = first + '.' + last + '@company.com'\n",
    "        \n",
    "    def fullname():                                         # remove self this time\n",
    "        return '{} {}'.format(self.first, self.last)        "
   ]
  },
  {
   "cell_type": "code",
   "execution_count": 25,
   "metadata": {},
   "outputs": [
    {
     "ename": "TypeError",
     "evalue": "fullname() takes 0 positional arguments but 1 was given",
     "output_type": "error",
     "traceback": [
      "\u001b[1;31m---------------------------------------------------------------------------\u001b[0m",
      "\u001b[1;31mTypeError\u001b[0m                                 Traceback (most recent call last)",
      "\u001b[1;32m<ipython-input-25-4db908ecf722>\u001b[0m in \u001b[0;36m<module>\u001b[1;34m\u001b[0m\n\u001b[0;32m      1\u001b[0m \u001b[0memp_1\u001b[0m \u001b[1;33m=\u001b[0m \u001b[0mEmployee\u001b[0m\u001b[1;33m(\u001b[0m\u001b[1;34m'Donald'\u001b[0m\u001b[1;33m,\u001b[0m \u001b[1;34m'Trump'\u001b[0m\u001b[1;33m,\u001b[0m \u001b[1;36m1000000\u001b[0m\u001b[1;33m)\u001b[0m\u001b[1;33m\u001b[0m\u001b[1;33m\u001b[0m\u001b[0m\n\u001b[1;32m----> 2\u001b[1;33m \u001b[0mprint\u001b[0m\u001b[1;33m(\u001b[0m\u001b[0memp_1\u001b[0m\u001b[1;33m.\u001b[0m\u001b[0mfullname\u001b[0m\u001b[1;33m(\u001b[0m\u001b[1;33m)\u001b[0m\u001b[1;33m)\u001b[0m\u001b[1;33m\u001b[0m\u001b[1;33m\u001b[0m\u001b[0m\n\u001b[0m",
      "\u001b[1;31mTypeError\u001b[0m: fullname() takes 0 positional arguments but 1 was given"
     ]
    }
   ],
   "source": [
    "emp_1 = Employee('Donald', 'Trump', 1000000)\n",
    "print(emp_1.fullname())       "
   ]
  },
  {
   "cell_type": "markdown",
   "metadata": {},
   "source": [
    "You can run these methods using the class name itself:"
   ]
  },
  {
   "cell_type": "code",
   "execution_count": 32,
   "metadata": {},
   "outputs": [
    {
     "name": "stdout",
     "output_type": "stream",
     "text": [
      "Donald Trump\n"
     ]
    }
   ],
   "source": [
    "class Employee:\n",
    "    def __init__(self, first, last, pay):           \n",
    "        self.first = first\n",
    "        self.last = last\n",
    "        self.pay = pay\n",
    "        self.email = first + '.' + last + '@company.com'\n",
    "        \n",
    "    def fullname(self):\n",
    "        return '{} {}'.format(self.first, self.last) \n",
    "\n",
    "emp_1 = Employee('Donald', 'Trump', 1000000)\n",
    "print(Employee.fullname(emp_1))   # we have to pass in the instance as the argument "
   ]
  },
  {
   "cell_type": "code",
   "execution_count": 33,
   "metadata": {},
   "outputs": [
    {
     "name": "stdout",
     "output_type": "stream",
     "text": [
      "Donald Trump\n"
     ]
    }
   ],
   "source": [
    "print(emp_1.fullname())"
   ]
  },
  {
   "cell_type": "markdown",
   "metadata": {},
   "source": [
    "## Class variables and instance variables\n",
    "Class variables are variables that are shared among all instances of a class. "
   ]
  },
  {
   "cell_type": "code",
   "execution_count": 34,
   "metadata": {},
   "outputs": [
    {
     "name": "stdout",
     "output_type": "stream",
     "text": [
      "1000000\n",
      "1070000\n"
     ]
    }
   ],
   "source": [
    "class Employee:\n",
    "    def __init__(self, first, last, pay):           \n",
    "        self.first = first\n",
    "        self.last = last\n",
    "        self.pay = pay\n",
    "        self.email = first + '.' + last + '@company.com'\n",
    "        \n",
    "    def fullname(self):\n",
    "        return '{} {}'.format(self.first, self.last) \n",
    "    \n",
    "    def apply_raise(self):\n",
    "        self.pay = int(self.pay*1.07)\n",
    "\n",
    "emp_1 = Employee('Donald', 'Trump', 1000000)\n",
    "emp_2 = Employee('Worker', 'One', 2000)\n",
    "\n",
    "print(emp_1.pay)\n",
    "emp_1.apply_raise()\n",
    "print(emp_1.pay)"
   ]
  },
  {
   "cell_type": "code",
   "execution_count": 39,
   "metadata": {},
   "outputs": [
    {
     "name": "stdout",
     "output_type": "stream",
     "text": [
      "1000000\n"
     ]
    },
    {
     "ename": "NameError",
     "evalue": "name 'raise_amount' is not defined",
     "output_type": "error",
     "traceback": [
      "\u001b[1;31m---------------------------------------------------------------------------\u001b[0m",
      "\u001b[1;31mNameError\u001b[0m                                 Traceback (most recent call last)",
      "\u001b[1;32m<ipython-input-39-f672f866ec26>\u001b[0m in \u001b[0;36m<module>\u001b[1;34m\u001b[0m\n\u001b[0;32m     20\u001b[0m \u001b[1;33m\u001b[0m\u001b[0m\n\u001b[0;32m     21\u001b[0m \u001b[0mprint\u001b[0m\u001b[1;33m(\u001b[0m\u001b[0memp_1\u001b[0m\u001b[1;33m.\u001b[0m\u001b[0mpay\u001b[0m\u001b[1;33m)\u001b[0m\u001b[1;33m\u001b[0m\u001b[1;33m\u001b[0m\u001b[0m\n\u001b[1;32m---> 22\u001b[1;33m \u001b[0memp_1\u001b[0m\u001b[1;33m.\u001b[0m\u001b[0mapply_raise\u001b[0m\u001b[1;33m(\u001b[0m\u001b[1;33m)\u001b[0m\u001b[1;33m\u001b[0m\u001b[1;33m\u001b[0m\u001b[0m\n\u001b[0m\u001b[0;32m     23\u001b[0m \u001b[0mprint\u001b[0m\u001b[1;33m(\u001b[0m\u001b[0memp_1\u001b[0m\u001b[1;33m.\u001b[0m\u001b[0mpay\u001b[0m\u001b[1;33m)\u001b[0m\u001b[1;33m\u001b[0m\u001b[1;33m\u001b[0m\u001b[0m\n",
      "\u001b[1;32m<ipython-input-39-f672f866ec26>\u001b[0m in \u001b[0;36mapply_raise\u001b[1;34m(self)\u001b[0m\n\u001b[0;32m     15\u001b[0m \u001b[1;33m\u001b[0m\u001b[0m\n\u001b[0;32m     16\u001b[0m     \u001b[1;32mdef\u001b[0m \u001b[0mapply_raise\u001b[0m\u001b[1;33m(\u001b[0m\u001b[0mself\u001b[0m\u001b[1;33m)\u001b[0m\u001b[1;33m:\u001b[0m\u001b[1;33m\u001b[0m\u001b[1;33m\u001b[0m\u001b[0m\n\u001b[1;32m---> 17\u001b[1;33m         \u001b[0mself\u001b[0m\u001b[1;33m.\u001b[0m\u001b[0mpay\u001b[0m \u001b[1;33m=\u001b[0m \u001b[0mint\u001b[0m\u001b[1;33m(\u001b[0m\u001b[0mself\u001b[0m\u001b[1;33m.\u001b[0m\u001b[0mpay\u001b[0m\u001b[1;33m*\u001b[0m\u001b[0mraise_amount\u001b[0m\u001b[1;33m)\u001b[0m\u001b[1;33m\u001b[0m\u001b[1;33m\u001b[0m\u001b[0m\n\u001b[0m\u001b[0;32m     18\u001b[0m \u001b[1;33m\u001b[0m\u001b[0m\n\u001b[0;32m     19\u001b[0m \u001b[0memp_1\u001b[0m \u001b[1;33m=\u001b[0m \u001b[0mEmployee\u001b[0m\u001b[1;33m(\u001b[0m\u001b[1;34m'Donald'\u001b[0m\u001b[1;33m,\u001b[0m \u001b[1;34m'Trump'\u001b[0m\u001b[1;33m,\u001b[0m \u001b[1;36m1000000\u001b[0m\u001b[1;33m)\u001b[0m\u001b[1;33m\u001b[0m\u001b[1;33m\u001b[0m\u001b[0m\n",
      "\u001b[1;31mNameError\u001b[0m: name 'raise_amount' is not defined"
     ]
    }
   ],
   "source": [
    "# instead of hardcoding 1.07 inside the apply_raise method\n",
    "\n",
    "class Employee:\n",
    "    \n",
    "    raise_amount = 1.07\n",
    "    \n",
    "    def __init__(self, first, last, pay):           \n",
    "        self.first = first\n",
    "        self.last = last\n",
    "        self.pay = pay\n",
    "        self.email = first + '.' + last + '@company.com'\n",
    "        \n",
    "    def fullname(self):\n",
    "        return '{} {}'.format(self.first, self.last) \n",
    "    \n",
    "    def apply_raise(self):\n",
    "        self.pay = int(self.pay*raise_amount)\n",
    "\n",
    "emp_1 = Employee('Donald', 'Trump', 1000000)\n",
    "\n",
    "print(emp_1.pay)\n",
    "emp_1.apply_raise()\n",
    "print(emp_1.pay)"
   ]
  },
  {
   "cell_type": "markdown",
   "metadata": {},
   "source": [
    "The error exists because when we access these class variables, we need to either access them through the class itself or an instance of the class."
   ]
  },
  {
   "cell_type": "code",
   "execution_count": 40,
   "metadata": {},
   "outputs": [
    {
     "name": "stdout",
     "output_type": "stream",
     "text": [
      "1000000\n",
      "1070000\n"
     ]
    }
   ],
   "source": [
    "class Employee:\n",
    "    \n",
    "    raise_amount = 1.07\n",
    "    \n",
    "    def __init__(self, first, last, pay):           \n",
    "        self.first = first\n",
    "        self.last = last\n",
    "        self.pay = pay\n",
    "        self.email = first + '.' + last + '@company.com'\n",
    "        \n",
    "    def fullname(self):\n",
    "        return '{} {}'.format(self.first, self.last) \n",
    "    \n",
    "    def apply_raise(self):\n",
    "        self.pay = int(self.pay*self.raise_amount)\n",
    "        \n",
    "emp_1 = Employee('Donald', 'Trump', 1000000)\n",
    "\n",
    "print(emp_1.pay)\n",
    "emp_1.apply_raise()\n",
    "print(emp_1.pay)"
   ]
  },
  {
   "cell_type": "code",
   "execution_count": 41,
   "metadata": {},
   "outputs": [
    {
     "name": "stdout",
     "output_type": "stream",
     "text": [
      "1.07\n",
      "1.07\n",
      "1.07\n"
     ]
    }
   ],
   "source": [
    "# we can access the class variables from both the class itself as well as the instance\n",
    "\n",
    "class Employee:\n",
    "    \n",
    "    raise_amount = 1.07\n",
    "    \n",
    "    def __init__(self, first, last, pay):           \n",
    "        self.first = first\n",
    "        self.last = last\n",
    "        self.pay = pay\n",
    "        self.email = first + '.' + last + '@company.com'\n",
    "        \n",
    "    def fullname(self):\n",
    "        return '{} {}'.format(self.first, self.last) \n",
    "    \n",
    "    def apply_raise(self):\n",
    "        self.pay = int(self.pay*self.raise_amount)\n",
    "        \n",
    "emp_1 = Employee('Donald', 'Trump', 1000000)\n",
    "emp_2 = Employee('Worker', 'One', 2000)\n",
    "\n",
    "print(Employee.raise_amount)\n",
    "print(emp_1.raise_amount)                   # the instance actually doesnt have the attribute themselves; they are \n",
    "print(emp_2.raise_amount)                   # accessing the class' raise_amount attribute"
   ]
  },
  {
   "cell_type": "code",
   "execution_count": 42,
   "metadata": {},
   "outputs": [
    {
     "name": "stdout",
     "output_type": "stream",
     "text": [
      "{'first': 'Donald', 'last': 'Trump', 'pay': 1000000, 'email': 'Donald.Trump@company.com'}\n"
     ]
    }
   ],
   "source": [
    "print(emp_1.__dict__)   # directly lists out the attribute variables of emp_1; we cant see raise_amount"
   ]
  },
  {
   "cell_type": "code",
   "execution_count": 43,
   "metadata": {},
   "outputs": [
    {
     "name": "stdout",
     "output_type": "stream",
     "text": [
      "{'__module__': '__main__', 'raise_amount': 1.07, '__init__': <function Employee.__init__ at 0x000001A25BA15048>, 'fullname': <function Employee.fullname at 0x000001A25BA15318>, 'apply_raise': <function Employee.apply_raise at 0x000001A25BA15678>, '__dict__': <attribute '__dict__' of 'Employee' objects>, '__weakref__': <attribute '__weakref__' of 'Employee' objects>, '__doc__': None}\n"
     ]
    }
   ],
   "source": [
    "print(Employee.__dict__)   # directly lists out the attribute variables of emp_1; we cant see raise_amount"
   ]
  },
  {
   "cell_type": "code",
   "execution_count": 44,
   "metadata": {},
   "outputs": [
    {
     "name": "stdout",
     "output_type": "stream",
     "text": [
      "1.1\n",
      "1.1\n",
      "1.1\n"
     ]
    }
   ],
   "source": [
    "Employee.raise_amount = 1.1\n",
    "\n",
    "print(Employee.raise_amount)\n",
    "print(emp_1.raise_amount)                   # all of the instances' raise_amount variables are affected  because \n",
    "print(emp_2.raise_amount)                   # they are accessing the class' raise_amount attribute"
   ]
  },
  {
   "cell_type": "code",
   "execution_count": 46,
   "metadata": {},
   "outputs": [
    {
     "name": "stdout",
     "output_type": "stream",
     "text": [
      "1.1\n",
      "1.0\n",
      "1.1\n",
      "{'first': 'Donald', 'last': 'Trump', 'pay': 1000000, 'email': 'Donald.Trump@company.com', 'raise_amount': 1.0}\n"
     ]
    }
   ],
   "source": [
    "emp_1.raise_amount = 1.0              # this will create a raise_amount attribute for emp_1\n",
    "\n",
    "print(Employee.raise_amount)          # Employee and emp_2 are not affected\n",
    "print(emp_1.raise_amount)                    \n",
    "print(emp_2.raise_amount)     \n",
    "\n",
    "print(emp_1.__dict__)"
   ]
  },
  {
   "cell_type": "markdown",
   "metadata": {},
   "source": [
    "The above demonstrates the importance of setting instance variables. The next example shows the importance of class variables:"
   ]
  },
  {
   "cell_type": "code",
   "execution_count": 50,
   "metadata": {},
   "outputs": [],
   "source": [
    "class Employee:\n",
    "    \n",
    "    num_of_emps = 0\n",
    "    raise_amount = 1.07\n",
    "    \n",
    "    def __init__(self, first, last, pay):           \n",
    "        self.first = first\n",
    "        self.last = last\n",
    "        self.pay = pay\n",
    "        self.email = first + '.' + last + '@company.com'\n",
    "        \n",
    "        Employee.num_of_emps += 1\n",
    "        \n",
    "    def fullname(self):\n",
    "        return '{} {}'.format(self.first, self.last) \n",
    "    \n",
    "    def apply_raise(self):\n",
    "        self.pay = int(self.pay*Employee.raise_amount)\n",
    "        \n",
    "emp_1 = Employee('Donald', 'Trump', 1000000)\n",
    "emp_2 = Employee('Worker', 'One', 2000)"
   ]
  },
  {
   "cell_type": "code",
   "execution_count": 51,
   "metadata": {},
   "outputs": [
    {
     "name": "stdout",
     "output_type": "stream",
     "text": [
      "2\n"
     ]
    }
   ],
   "source": [
    "print(Employee.num_of_emps)"
   ]
  },
  {
   "cell_type": "code",
   "execution_count": 52,
   "metadata": {},
   "outputs": [
    {
     "name": "stdout",
     "output_type": "stream",
     "text": [
      "0\n",
      "1\n",
      "2\n"
     ]
    }
   ],
   "source": [
    "class Employee:\n",
    "    \n",
    "    num_of_emps = 0\n",
    "    raise_amount = 1.07\n",
    "    \n",
    "    def __init__(self, first, last, pay):           \n",
    "        self.first = first\n",
    "        self.last = last\n",
    "        self.pay = pay\n",
    "        self.email = first + '.' + last + '@company.com'\n",
    "        \n",
    "        Employee.num_of_emps += 1\n",
    "        \n",
    "    def fullname(self):\n",
    "        return '{} {}'.format(self.first, self.last) \n",
    "    \n",
    "    def apply_raise(self):\n",
    "        self.pay = int(self.pay*Employee.raise_amount)\n",
    "\n",
    "emp_1 = Employee('Donald', 'Trump', 1000000)\n",
    "emp_2 = Employee('Worker', 'One', 2000)\n",
    "\n",
    "print(Employee.num_of_emps)\n",
    "emp_1 = Employee('Donald', 'Trump', 1000000)\n",
    "print(Employee.num_of_emps)\n",
    "emp_2 = Employee('Worker', 'One', 2000)\n",
    "print(Employee.num_of_emps)"
   ]
  },
  {
   "cell_type": "code",
   "execution_count": 54,
   "metadata": {},
   "outputs": [
    {
     "name": "stdout",
     "output_type": "stream",
     "text": [
      "0\n",
      "0\n",
      "0\n"
     ]
    }
   ],
   "source": [
    "class Employee:\n",
    "    \n",
    "    num_of_emps = 0\n",
    "    raise_amount = 1.07\n",
    "    \n",
    "    def __init__(self, first, last, pay):           \n",
    "        self.first = first\n",
    "        self.last = last\n",
    "        self.pay = pay\n",
    "        self.email = first + '.' + last + '@company.com'\n",
    "        \n",
    "        self.num_of_emps += 1\n",
    "        \n",
    "    def fullname(self):\n",
    "        return '{} {}'.format(self.first, self.last) \n",
    "    \n",
    "    def apply_raise(self):\n",
    "        self.pay = int(self.pay*Employee.raise_amount)\n",
    "        \n",
    "emp_1 = Employee('Donald', 'Trump', 1000000)\n",
    "emp_2 = Employee('Worker', 'One', 2000)\n",
    "\n",
    "print(Employee.num_of_emps)\n",
    "emp_1 = Employee('Donald', 'Trump', 1000000)\n",
    "print(Employee.num_of_emps)\n",
    "emp_2 = Employee('Worker', 'One', 2000)\n",
    "print(Employee.num_of_emps)"
   ]
  },
  {
   "cell_type": "markdown",
   "metadata": {},
   "source": [
    "## Class methods and static methods\n",
    "Class methods are methods that automatically take the class as the first argument. Class methods can also be used as alternative constructors. Static methods do not take the instance or the class as the first argument. They behave just like normal functions, yet they should have some logical connection to our class."
   ]
  },
  {
   "cell_type": "markdown",
   "metadata": {},
   "source": [
    "### Class method"
   ]
  },
  {
   "cell_type": "markdown",
   "metadata": {},
   "source": [
    "As we learn just now, regular methods in a class automatically take the instance as the first argument and by convention, we refer to them as self:"
   ]
  },
  {
   "cell_type": "code",
   "execution_count": null,
   "metadata": {},
   "outputs": [],
   "source": [
    "class Employee:\n",
    "    \n",
    "    num_of_emps = 0\n",
    "    raise_amount = 1.07\n",
    "    \n",
    "    def __init__(self, first, last, pay):           \n",
    "        self.first = first\n",
    "        self.last = last\n",
    "        self.pay = pay\n",
    "        self.email = first + '.' + last + '@company.com'\n",
    "        \n",
    "        self.num_of_emps += 1\n",
    "        \n",
    "    def fullname(self):\n",
    "        return '{} {}'.format(self.first, self.last) \n",
    "    \n",
    "    def apply_raise(self):\n",
    "        self.pay = int(self.pay*Employee.raise_amount)\n",
    "        \n",
    "emp_1 = Employee('Donald', 'Trump', 1000000)\n",
    "emp_2 = Employee('Worker', 'One', 2000)"
   ]
  },
  {
   "cell_type": "markdown",
   "metadata": {},
   "source": [
    "To turn a regular method into a class method, add a decorator above the method:"
   ]
  },
  {
   "cell_type": "code",
   "execution_count": 55,
   "metadata": {},
   "outputs": [
    {
     "name": "stdout",
     "output_type": "stream",
     "text": [
      "1.07\n",
      "1.07\n",
      "1.07\n"
     ]
    }
   ],
   "source": [
    "class Employee:\n",
    "    \n",
    "    num_of_emps = 0\n",
    "    raise_amount = 1.07\n",
    "    \n",
    "    def __init__(self, first, last, pay):           \n",
    "        self.first = first\n",
    "        self.last = last\n",
    "        self.pay = pay\n",
    "        self.email = first + '.' + last + '@company.com'\n",
    "        \n",
    "        self.num_of_emps += 1\n",
    "        \n",
    "    def fullname(self):\n",
    "        return '{} {}'.format(self.first, self.last) \n",
    "    \n",
    "    def apply_raise(self):\n",
    "        self.pay = int(self.pay*Employee.raise_amount)\n",
    "        \n",
    "    @classmethod\n",
    "    def set_raise_amt(cls, amount):        # note that we cant use the word class because it is already a reserved word in python\n",
    "        cls.raise_amount = amount\n",
    "    \n",
    "emp_1 = Employee('Donald', 'Trump', 1000000)\n",
    "emp_2 = Employee('Worker', 'One', 2000)    \n",
    "\n",
    "print(Employee.raise_amount)\n",
    "print(emp_1.raise_amount)                   \n",
    "print(emp_2.raise_amount)"
   ]
  },
  {
   "cell_type": "code",
   "execution_count": 56,
   "metadata": {},
   "outputs": [
    {
     "name": "stdout",
     "output_type": "stream",
     "text": [
      "1.05\n",
      "1.05\n",
      "1.05\n"
     ]
    }
   ],
   "source": [
    "Employee.set_raise_amt(1.05)              # by setting this, all the class and instances variable will be affected\n",
    "\n",
    "print(Employee.raise_amount)\n",
    "print(emp_1.raise_amount)                   \n",
    "print(emp_2.raise_amount)"
   ]
  },
  {
   "cell_type": "markdown",
   "metadata": {},
   "source": [
    "Class methods can also be used as a constructor:"
   ]
  },
  {
   "cell_type": "code",
   "execution_count": 57,
   "metadata": {},
   "outputs": [
    {
     "name": "stdout",
     "output_type": "stream",
     "text": [
      "John.Doe@company.com\n",
      "70000\n"
     ]
    }
   ],
   "source": [
    "class Employee:\n",
    "    \n",
    "    num_of_emps = 0\n",
    "    raise_amount = 1.07\n",
    "    \n",
    "    def __init__(self, first, last, pay):           \n",
    "        self.first = first\n",
    "        self.last = last\n",
    "        self.pay = pay\n",
    "        self.email = first + '.' + last + '@company.com'\n",
    "        \n",
    "        self.num_of_emps += 1\n",
    "        \n",
    "    def fullname(self):\n",
    "        return '{} {}'.format(self.first, self.last) \n",
    "    \n",
    "    def apply_raise(self):\n",
    "        self.pay = int(self.pay*Employee.raise_amount)\n",
    "        \n",
    "    @classmethod\n",
    "    def set_raise_amt(cls, amount):        \n",
    "        cls.raise_amount = amount\n",
    "        \n",
    "emp_str_1 = 'John-Doe-70000'\n",
    "first, last, pay = emp_str_1.split('-')\n",
    "\n",
    "new_emp_1 = Employee(first, last, pay)\n",
    "\n",
    "print(new_emp_1.email)\n",
    "print(new_emp_1.pay)"
   ]
  },
  {
   "cell_type": "code",
   "execution_count": 58,
   "metadata": {},
   "outputs": [
    {
     "name": "stdout",
     "output_type": "stream",
     "text": [
      "John.Doe@company.com\n",
      "70000\n"
     ]
    }
   ],
   "source": [
    "class Employee:\n",
    "    \n",
    "    num_of_emps = 0\n",
    "    raise_amount = 1.07\n",
    "    \n",
    "    def __init__(self, first, last, pay):           \n",
    "        self.first = first\n",
    "        self.last = last\n",
    "        self.pay = pay\n",
    "        self.email = first + '.' + last + '@company.com'\n",
    "        \n",
    "        self.num_of_emps += 1\n",
    "        \n",
    "    def fullname(self):\n",
    "        return '{} {}'.format(self.first, self.last) \n",
    "    \n",
    "    def apply_raise(self):\n",
    "        self.pay = int(self.pay*Employee.raise_amount)\n",
    "        \n",
    "    @classmethod\n",
    "    def set_raise_amt(cls, amount):        \n",
    "        cls.raise_amount = amount\n",
    "        \n",
    "    @classmethod\n",
    "    def from_string(cls, emp_str):\n",
    "        first, last, pay = emp_str.split('-')\n",
    "        return cls(first, last, pay)                    # cls instead of Employee\n",
    "    \n",
    "emp_str_1 = 'John-Doe-70000'\n",
    "new_emp_1 = Employee.from_string(emp_str_1)\n",
    "\n",
    "print(new_emp_1.email)\n",
    "print(new_emp_1.pay)"
   ]
  },
  {
   "cell_type": "markdown",
   "metadata": {},
   "source": [
    "Common modules apply the above method, such as datetime module (https://docs.python.org/3/library/datetime.html)."
   ]
  },
  {
   "cell_type": "markdown",
   "metadata": {},
   "source": [
    "### Static method\n",
    "Class methods automatically the class as the first argument (cls). On the other hand, static methods dont pass classes or instances; they behave like regular functions. Sometimes programmers include them in the classes beacuse they have logical connection with the classes."
   ]
  },
  {
   "cell_type": "code",
   "execution_count": 60,
   "metadata": {},
   "outputs": [],
   "source": [
    "class Employee:\n",
    "    \n",
    "    num_of_emps = 0\n",
    "    raise_amount = 1.07\n",
    "    \n",
    "    def __init__(self, first, last, pay):           \n",
    "        self.first = first\n",
    "        self.last = last\n",
    "        self.pay = pay\n",
    "        self.email = first + '.' + last + '@company.com'\n",
    "        \n",
    "        self.num_of_emps += 1\n",
    "        \n",
    "    def fullname(self):\n",
    "        return '{} {}'.format(self.first, self.last) \n",
    "    \n",
    "    def apply_raise(self):\n",
    "        self.pay = int(self.pay*Employee.raise_amount)\n",
    "        \n",
    "    @classmethod\n",
    "    def set_raise_amt(cls, amount):        \n",
    "        cls.raise_amount = amount\n",
    "        \n",
    "    @classmethod\n",
    "    def from_string(cls, emp_str):\n",
    "        first, last, pay = emp_str.split('-')\n",
    "        return cls(first, last, pay)          \n",
    "    \n",
    "    @staticmethod\n",
    "    def is_workday(day):\n",
    "        if day.weekday() == 5 or day.weekday() == 6:    # saturday or sunday\n",
    "            return False\n",
    "        return True"
   ]
  },
  {
   "cell_type": "markdown",
   "metadata": {},
   "source": [
    "Sometimes people write regular or class methods that actually should be static methods; usually a giveaway that a method should be a static method is if it doesnt access the instance or the class anywhere within the function."
   ]
  },
  {
   "cell_type": "code",
   "execution_count": 61,
   "metadata": {},
   "outputs": [
    {
     "name": "stdout",
     "output_type": "stream",
     "text": [
      "False\n"
     ]
    }
   ],
   "source": [
    "import datetime \n",
    "\n",
    "my_date = datetime.date(2016, 7, 10)\n",
    "print(Employee.is_workday(my_date))"
   ]
  },
  {
   "cell_type": "markdown",
   "metadata": {},
   "source": [
    "## Inheritance and subclasses\n",
    " Inheritance allows us to inherit attributes and methods from a parent class. This is useful because we can create subclasses and get all of the functionality of our parents class, and have the ability to overwrite or add completely new functionality without affecting the parents class in any ways."
   ]
  },
  {
   "cell_type": "code",
   "execution_count": 76,
   "metadata": {},
   "outputs": [
    {
     "name": "stdout",
     "output_type": "stream",
     "text": [
      "Donald.Trump@company.com\n",
      "Worker.One@company.com\n"
     ]
    }
   ],
   "source": [
    "class Employee:\n",
    "    \n",
    "    raise_amount = 1.1\n",
    "    \n",
    "    def __init__(self, first, last, pay):           \n",
    "        self.first = first\n",
    "        self.last = last\n",
    "        self.pay = pay\n",
    "        self.email = first + '.' + last + '@company.com'\n",
    "                \n",
    "    def fullname(self):\n",
    "        return '{} {}'.format(self.first, self.last) \n",
    "    \n",
    "    def apply_raise(self):\n",
    "        self.pay = int(self.pay*self.raise_amount)\n",
    "\n",
    "class Developer(Employee):\n",
    "    pass\n",
    "\n",
    "dev_1 = Employee('Donald', 'Trump', 1000000)\n",
    "dev_2 = Employee('Worker', 'One', 2000)   \n",
    "\n",
    "print(dev_1.email)\n",
    "print(dev_2.email)"
   ]
  },
  {
   "cell_type": "markdown",
   "metadata": {},
   "source": [
    "We can access the Developer class attributes that were actually set in the parent (Employee) class."
   ]
  },
  {
   "cell_type": "code",
   "execution_count": 63,
   "metadata": {},
   "outputs": [
    {
     "name": "stdout",
     "output_type": "stream",
     "text": [
      "Donald.Trump@company.com\n",
      "Worker.One@company.com\n"
     ]
    }
   ],
   "source": [
    "dev_1 = Developer('Donald', 'Trump', 1000000)\n",
    "dev_2 = Developer('Worker', 'One', 2000) \n",
    "\n",
    "print(dev_1.email)\n",
    "print(dev_2.email)"
   ]
  },
  {
   "cell_type": "markdown",
   "metadata": {},
   "source": [
    "When we instantiated our Developer class, it first looked in our developer class our init method, and since it is currently empty, Python will walk up the chain of inheritance (aka method resolution order) until it finds the init."
   ]
  },
  {
   "cell_type": "code",
   "execution_count": 64,
   "metadata": {},
   "outputs": [
    {
     "name": "stdout",
     "output_type": "stream",
     "text": [
      "Help on class Developer in module __main__:\n",
      "\n",
      "class Developer(Employee)\n",
      " |  Developer(first, last, pay)\n",
      " |  \n",
      " |  Method resolution order:\n",
      " |      Developer\n",
      " |      Employee\n",
      " |      builtins.object\n",
      " |  \n",
      " |  Methods inherited from Employee:\n",
      " |  \n",
      " |  __init__(self, first, last, pay)\n",
      " |      Initialize self.  See help(type(self)) for accurate signature.\n",
      " |  \n",
      " |  apply_raise(self)\n",
      " |  \n",
      " |  fullname(self)\n",
      " |  \n",
      " |  ----------------------------------------------------------------------\n",
      " |  Data descriptors inherited from Employee:\n",
      " |  \n",
      " |  __dict__\n",
      " |      dictionary for instance variables (if defined)\n",
      " |  \n",
      " |  __weakref__\n",
      " |      list of weak references to the object (if defined)\n",
      " |  \n",
      " |  ----------------------------------------------------------------------\n",
      " |  Data and other attributes inherited from Employee:\n",
      " |  \n",
      " |  num_of_emps = 0\n",
      "\n",
      "None\n"
     ]
    }
   ],
   "source": [
    "print(help(Developer))"
   ]
  },
  {
   "cell_type": "code",
   "execution_count": 77,
   "metadata": {},
   "outputs": [
    {
     "name": "stdout",
     "output_type": "stream",
     "text": [
      "1000000\n",
      "1100000\n"
     ]
    }
   ],
   "source": [
    "dev_1 = Developer('Donald', 'Trump', 1000000)\n",
    "\n",
    "print(dev_1.pay)\n",
    "dev_1.apply_raise()\n",
    "print(dev_1.pay)"
   ]
  },
  {
   "cell_type": "markdown",
   "metadata": {},
   "source": [
    "Let's say that we want to raise our developers' pay by 20% instead of 10%:"
   ]
  },
  {
   "cell_type": "code",
   "execution_count": 78,
   "metadata": {},
   "outputs": [
    {
     "name": "stdout",
     "output_type": "stream",
     "text": [
      "1000000\n",
      "1200000\n"
     ]
    }
   ],
   "source": [
    "class Employee:\n",
    "    \n",
    "    raise_amount = 1.1\n",
    "    \n",
    "    def __init__(self, first, last, pay):           \n",
    "        self.first = first\n",
    "        self.last = last\n",
    "        self.pay = pay\n",
    "        self.email = first + '.' + last + '@company.com'\n",
    "                \n",
    "    def fullname(self):\n",
    "        return '{} {}'.format(self.first, self.last) \n",
    "    \n",
    "    def apply_raise(self):\n",
    "        self.pay = int(self.pay*self.raise_amount)\n",
    "\n",
    "class Developer(Employee):\n",
    "    raise_amount = 1.2\n",
    "\n",
    "dev_1 = Developer('Donald', 'Trump', 1000000)\n",
    "\n",
    "print(dev_1.pay)\n",
    "dev_1.apply_raise()\n",
    "print(dev_1.pay)"
   ]
  },
  {
   "cell_type": "code",
   "execution_count": 79,
   "metadata": {},
   "outputs": [
    {
     "name": "stdout",
     "output_type": "stream",
     "text": [
      "1000000\n",
      "1100000\n"
     ]
    }
   ],
   "source": [
    "dev_1 = Employee('Donald', 'Trump', 1000000)\n",
    "\n",
    "print(dev_1.pay)\n",
    "dev_1.apply_raise()\n",
    "print(dev_1.pay)"
   ]
  },
  {
   "cell_type": "code",
   "execution_count": 81,
   "metadata": {},
   "outputs": [],
   "source": [
    "# add in the programming language; it's easy to copy everything but remember that \n",
    "# we are trying to make the code as clean and maintanable as possible \n",
    "\n",
    "class Employee:\n",
    "    \n",
    "    raise_amount = 1.1\n",
    "    \n",
    "    def __init__(self, first, last, pay):           \n",
    "        self.first = first\n",
    "        self.last = last\n",
    "        self.pay = pay\n",
    "        self.email = first + '.' + last + '@company.com'\n",
    "                \n",
    "    def fullname(self):\n",
    "        return '{} {}'.format(self.first, self.last) \n",
    "    \n",
    "    def apply_raise(self):\n",
    "        self.pay = int(self.pay*self.raise_amount)\n",
    "\n",
    "class Developer(Employee):\n",
    "    \n",
    "    raise_amount = 1.2\n",
    "    \n",
    "    def __init__(self, first, last, pay, prog_lang):   \n",
    "        super().__init__(first, last, pay)            # this passes first, last, pay to Employee's init method and let it handle them\n",
    "        self.prog_lang = prog_lang"
   ]
  },
  {
   "cell_type": "code",
   "execution_count": 83,
   "metadata": {},
   "outputs": [],
   "source": [
    "dev_1 = Developer('Donald', 'Trump', 1000000, 'Python')\n",
    "dev_2 = Developer('Worker', 'One', 2000, 'Java') "
   ]
  },
  {
   "cell_type": "code",
   "execution_count": 85,
   "metadata": {},
   "outputs": [
    {
     "name": "stdout",
     "output_type": "stream",
     "text": [
      "Donald.Trump@company.com\n",
      "Python\n"
     ]
    }
   ],
   "source": [
    "print(dev_1.email)\n",
    "print(dev_1.prog_lang)"
   ]
  },
  {
   "cell_type": "code",
   "execution_count": 89,
   "metadata": {},
   "outputs": [],
   "source": [
    "class Manager(Employee):\n",
    "    \n",
    "    def __init__(self, first, last, pay, employees=None):   \n",
    "        super().__init__(first, last, pay)            \n",
    "        if employees is None:\n",
    "            self.employees = []\n",
    "        else:\n",
    "            self.employees = employees\n",
    "    \n",
    "    def add_emp(self, emp):\n",
    "        if emp not in self.employees:\n",
    "            self.employees.append(emp)\n",
    "    \n",
    "    def remove_emp(self, emp):\n",
    "        if emp in self.employees:\n",
    "            self.employees.remove(emp)\n",
    "    \n",
    "    def print_emps(self):\n",
    "        for emp in self.employees:\n",
    "            print('-->', emp.fullname())"
   ]
  },
  {
   "cell_type": "code",
   "execution_count": 90,
   "metadata": {},
   "outputs": [
    {
     "name": "stdout",
     "output_type": "stream",
     "text": [
      "Michael.Jackson@company.com\n",
      "--> Donald Trump\n"
     ]
    }
   ],
   "source": [
    "mgr_1 = Manager('Michael', 'Jackson', 999999999, [dev_1])\n",
    "\n",
    "print(mgr_1.email)\n",
    "mgr_1.print_emps()"
   ]
  },
  {
   "cell_type": "code",
   "execution_count": 91,
   "metadata": {},
   "outputs": [
    {
     "name": "stdout",
     "output_type": "stream",
     "text": [
      "--> Donald Trump\n",
      "--> Worker One\n"
     ]
    }
   ],
   "source": [
    "mgr_1.add_emp(dev_2)\n",
    "mgr_1.print_emps()"
   ]
  },
  {
   "cell_type": "code",
   "execution_count": 94,
   "metadata": {},
   "outputs": [
    {
     "name": "stdout",
     "output_type": "stream",
     "text": [
      "--> Worker One\n"
     ]
    }
   ],
   "source": [
    "mgr_1.remove_emp(dev_1)\n",
    "mgr_1.print_emps()"
   ]
  },
  {
   "cell_type": "markdown",
   "metadata": {},
   "source": [
    "## isinstance and issubclass function"
   ]
  },
  {
   "cell_type": "markdown",
   "metadata": {},
   "source": [
    "*isinstance* function will tell us if an object is an instance of a class (or type)."
   ]
  },
  {
   "cell_type": "code",
   "execution_count": 97,
   "metadata": {},
   "outputs": [
    {
     "name": "stdout",
     "output_type": "stream",
     "text": [
      "True\n",
      "True\n",
      "False\n"
     ]
    }
   ],
   "source": [
    "print(isinstance(mgr_1, Manager))\n",
    "print(isinstance(mgr_1, Employee))\n",
    "print(isinstance(mgr_1, Developer))"
   ]
  },
  {
   "cell_type": "markdown",
   "metadata": {},
   "source": [
    "*issubclass* function will tell us if a class is a subclass of another."
   ]
  },
  {
   "cell_type": "code",
   "execution_count": 102,
   "metadata": {},
   "outputs": [
    {
     "name": "stdout",
     "output_type": "stream",
     "text": [
      "True\n",
      "False\n",
      "False\n",
      "True\n"
     ]
    }
   ],
   "source": [
    "print(issubclass(Developer, Employee))\n",
    "print(issubclass(Employee, Developer))\n",
    "print(issubclass(Manager, Developer))\n",
    "print(issubclass(Manager, Employee))"
   ]
  },
  {
   "cell_type": "code",
   "execution_count": null,
   "metadata": {},
   "outputs": [],
   "source": []
  },
  {
   "cell_type": "code",
   "execution_count": null,
   "metadata": {},
   "outputs": [],
   "source": []
  },
  {
   "cell_type": "code",
   "execution_count": null,
   "metadata": {},
   "outputs": [],
   "source": []
  }
 ],
 "metadata": {
  "kernelspec": {
   "display_name": "Python 3",
   "language": "python",
   "name": "python3"
  },
  "language_info": {
   "codemirror_mode": {
    "name": "ipython",
    "version": 3
   },
   "file_extension": ".py",
   "mimetype": "text/x-python",
   "name": "python",
   "nbconvert_exporter": "python",
   "pygments_lexer": "ipython3",
   "version": "3.7.5"
  }
 },
 "nbformat": 4,
 "nbformat_minor": 2
}
